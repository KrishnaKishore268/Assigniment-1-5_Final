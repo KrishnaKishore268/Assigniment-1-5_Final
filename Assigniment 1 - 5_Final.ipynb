{
 "cells": [
  {
   "cell_type": "markdown",
   "metadata": {},
   "source": [
    "# Assigniment 1\n"
   ]
  },
  {
   "cell_type": "markdown",
   "metadata": {},
   "source": [
    "# 2.1.1.  Install Jupyter notebook and run the first program and share the screenshot of the output."
   ]
  },
  {
   "cell_type": "raw",
   "metadata": {},
   "source": []
  },
  {
   "cell_type": "code",
   "execution_count": null,
   "metadata": {},
   "outputs": [],
   "source": []
  },
  {
   "cell_type": "markdown",
   "metadata": {},
   "source": [
    "# 2.1.2. Write a program which will find all such numbers which are divisible by 7 but are not a\n",
    "   multiple of 5, between 2000 and 3200 (both included). The numbers obtained should be printed\n",
    "   in a comma-separated sequence on a single line."
   ]
  },
  {
   "cell_type": "markdown",
   "metadata": {},
   "source": [
    "    1. Number Range should be between 2000 to 3201 ( as both should be included )\n",
    "    \n",
    "    2. Print the numbers between the range as mentioned in the point 1 should be divisible by 7 and it should not contain the          any number which are multiple of 5.\n",
    "    \n",
    "    3. Numbers should be printed in Comma-separated sequence on a single line.\n",
    "    \n",
    "    4. Additional Points : \n",
    "        \n",
    "            Int this we can pass the Number Ranges as well if required ? We will see them in last.\n"
   ]
  },
  {
   "cell_type": "code",
   "execution_count": null,
   "metadata": {},
   "outputs": [],
   "source": [
    "# Program using simple for loop.\n",
    "\n",
    "#s = 2000 # Start Number\n",
    "#e = 3201 # End number\n",
    "def lp75(s,e):\n",
    "    for x in range (s,e):\n",
    "        if x % 7 == 0 and x % 5 !=0:\n",
    "            print(x,end=',')\n",
    "lp75(2000,3201)"
   ]
  },
  {
   "cell_type": "code",
   "execution_count": null,
   "metadata": {},
   "outputs": [],
   "source": [
    "# Program Using List Comprehiensions\n",
    "\n",
    "def l75(s,e):\n",
    "    y = [x for x in range(s,e) if x % 7 == 0 and x % 5 !=0]\n",
    "    print(y)\n",
    "l75(2000,3201)"
   ]
  },
  {
   "cell_type": "code",
   "execution_count": null,
   "metadata": {
    "scrolled": true
   },
   "outputs": [],
   "source": [
    "#program using Lambda Functions.\n",
    "\n",
    "def lam75(s,e):\n",
    "    y = list(filter((lambda x:x%7 == 0 and x%5 !=0),range(s,e)))\n",
    "    print(y)\n",
    "lam75(2000,3201)"
   ]
  },
  {
   "cell_type": "code",
   "execution_count": null,
   "metadata": {},
   "outputs": [],
   "source": [
    "import time\n",
    "\n",
    "%%time lam75(2000,3201)"
   ]
  },
  {
   "cell_type": "code",
   "execution_count": null,
   "metadata": {
    "scrolled": true
   },
   "outputs": [],
   "source": [
    "!pip install time"
   ]
  },
  {
   "cell_type": "markdown",
   "metadata": {},
   "source": [
    "# 2.1.3. Write a Python program to accept the user's first and last name and then getting them printed in the the reverse order with a space between first name and last name.\n",
    "\n",
    "    1. User input is required as First Name\n",
    "    2. User input is required as Last name\n",
    "    3. Take this 2 inputs then reverse the string values in first name and last name and print them in reverse order.\n",
    "\n"
   ]
  },
  {
   "cell_type": "code",
   "execution_count": 19,
   "metadata": {
    "scrolled": true
   },
   "outputs": [
    {
     "name": "stdout",
     "output_type": "stream",
     "text": [
      "Please enter your First name: Krishna\n",
      "Please enter your Last name: Singampalli\n",
      "Fullname is :  Krishna Singampalli\n",
      "anhsirK illapmagniS \n"
     ]
    }
   ],
   "source": [
    "firstname = input(\"Please enter your First name: \")\n",
    "lastname = input(\"Please enter your Last name: \")\n",
    "f1 = list(firstname)\n",
    "f2 = list(lastname)\n",
    "f3 = [' ']\n",
    "fullname = f2+f3+f1\n",
    "print('Fullname is : ',firstname,lastname)\n",
    "s = ' '\n",
    "for c in fullname:\n",
    "    s=c+s\n",
    "print(s)"
   ]
  },
  {
   "cell_type": "markdown",
   "metadata": {},
   "source": [
    "# 2.1.4 Progarm\n",
    "# To find the volume of the Sphere where diameter is 12 cm\n",
    "#Formula V=4/3*22/7*r**3"
   ]
  },
  {
   "cell_type": "code",
   "execution_count": 26,
   "metadata": {
    "scrolled": true
   },
   "outputs": [
    {
     "name": "stdout",
     "output_type": "stream",
     "text": [
      "Please enter the Diameter in cm :12\n",
      "Volume of the Spher is  905 cm^3"
     ]
    }
   ],
   "source": [
    "\n",
    "import math # Using Math Function\n",
    "d= int(input(\"Please enter the Diameter in cm :\"))\n",
    "#d=12 # in cm\n",
    "r = d/2\n",
    "V= round(4/3*math.pi*r**3)\n",
    "print(\"Volume of the Spher is \",V ,end=' cm^3')"
   ]
  },
  {
   "cell_type": "code",
   "execution_count": null,
   "metadata": {},
   "outputs": [],
   "source": []
  },
  {
   "cell_type": "markdown",
   "metadata": {},
   "source": [
    "# 2.2. Problem Statement: PYTHON 2"
   ]
  },
  {
   "cell_type": "markdown",
   "metadata": {},
   "source": [
    "# 2.2.1. Write a program which accepts a sequence of comma-separated numbers from console and generate a list.\n",
    "\n",
    "\n",
    "\n",
    "    a. Here we need to accept the number from user like. \n",
    "        1. start Number\n",
    "        2. End Number \n",
    "        3. Range\n",
    "    b. Then we need to generate the number ranges based on the input provided by the user.\n",
    "    c. Use the Try catch functionality to aviod unnecessay error because of the user inputs.\n",
    "    "
   ]
  },
  {
   "cell_type": "code",
   "execution_count": 5,
   "metadata": {},
   "outputs": [
    {
     "name": "stdout",
     "output_type": "stream",
     "text": [
      " Please enter the starting number :123\n",
      " Please enter the ending number :2123\n",
      " Please enter the range number :200\n",
      "[123, 323, 523, 723, 923, 1123, 1323, 1523, 1723, 1923]\n"
     ]
    }
   ],
   "source": [
    "startnumber = input(\" Please enter the starting number :\")\n",
    "endnumber = input(\" Please enter the ending number :\")\n",
    "rangenumber = input(\" Please enter the range number :\")\n",
    "r=list(range(int(startnumber),int(endnumber),int(rangenumber)))\n",
    "print(r)"
   ]
  },
  {
   "cell_type": "markdown",
   "metadata": {},
   "source": [
    "# 2.2.2 Create the below pattern using nested for loop in Python.\n",
    "*\n",
    "* *\n",
    "* * *\n",
    "* * * *\n",
    "* * * * *\n",
    "* * * *\n",
    "* * *\n",
    "* *\n",
    "*"
   ]
  },
  {
   "cell_type": "code",
   "execution_count": 87,
   "metadata": {},
   "outputs": [
    {
     "name": "stdout",
     "output_type": "stream",
     "text": [
      "Program to print start pattern: \n",
      "\n",
      "Enter number of starts to be displayed : 6\n",
      "*  \n",
      "* *  \n",
      "* * *  \n",
      "* * * *  \n",
      "* * * * *  \n",
      "* * * * * *  \n",
      "* * * * *  \n",
      "* * * *  \n",
      "* * *  \n",
      "* *  \n",
      "*  \n",
      " \n"
     ]
    }
   ],
   "source": [
    "print(\"Program to print start pattern: \\n\")\n",
    "\n",
    "rows = input(\"Enter number of starts to be displayed : \")\n",
    "rows = int (rows)\n",
    "for i in range (0, rows):\n",
    "    for j in range(0, i + 1):\n",
    "        print(\"*\", end=' ')\n",
    "    print(\" \")\n",
    "\n",
    "for i in range (rows, 0, -1):\n",
    "    for j in range(0, i -1):\n",
    "        print(\"*\", end=' ')\n",
    "    print(\" \")"
   ]
  },
  {
   "cell_type": "markdown",
   "metadata": {},
   "source": [
    "# 2.2.3 Write a Python program to reverse a word after accepting the input from the user.\n",
    "Sample Output:\n",
    "Input word: AcadGild\n",
    "Output: dilGdacA"
   ]
  },
  {
   "cell_type": "code",
   "execution_count": 30,
   "metadata": {},
   "outputs": [
    {
     "name": "stdout",
     "output_type": "stream",
     "text": [
      "Enter Any Word : AcadGild\n",
      "dliGdacA\n"
     ]
    }
   ],
   "source": [
    "#2.2.4\n",
    "n11 = input( \"Enter Any Word : \")\n",
    "l11 = list(n11)\n",
    "l12 = []\n",
    "s =''\n",
    "for x in l11:\n",
    "  s=x+s\n",
    "print(s)"
   ]
  },
  {
   "cell_type": "markdown",
   "metadata": {},
   "source": [
    "# 2.2.4 Write a Python Program to print the given string in the format specified in the sample output.\n",
    "\n",
    "WE, THE PEOPLE OF INDIA, having solemnly resolved to constitute India into a SOVEREIGN,\n",
    "SOCIALIST, SECULAR, DEMOCRATIC REPUBLIC and to secure to all its citizens\n",
    "\n",
    "#Required Output\n",
    "WE, THE PEOPLE OF INDIA,\n",
    "      having solemnly resolved to constitute India into a SOVEREIGN, !\n",
    "            SOCIALIST, SECULAR, DEMOCRATIC\n",
    "             REPUBLIC and to secure to all its citizens\n",
    "\n"
   ]
  },
  {
   "cell_type": "code",
   "execution_count": 47,
   "metadata": {},
   "outputs": [
    {
     "name": "stdout",
     "output_type": "stream",
     "text": [
      " WE, THE PEOPLE OF INDIA,\n",
      "      having solemnly resolved to constitute India into a SOVEREIGN, !\n",
      "            SOCIALIST, SECULAR, DEMOCRATIC\n",
      "             REPUBLIC and to secure to all its citizens\n",
      "WE, THE PEOPLE OF INDIA, \n",
      "      having solemnly resolved to constitute India into a SOVEREIGN, !\n",
      "           SOCIALIST, SECULAR, DEMOCRATIC\n",
      "             REPUBLIC and to secure to all its citizens\n"
     ]
    }
   ],
   "source": [
    "string = \"WE, THE PEOPLE OF INDIA, having solemnly resolved to constitute India into a SOVEREIGN,SOCIALIST, SECULAR, DEMOCRATIC REPUBLIC and to secure to all its citizens\"\n",
    "\n",
    "#l1 = string.split()\n",
    "#print(l1)\n",
    "#print(l1[0:7])\n",
    "#s = l1[0:7]\n",
    "#print(s)\n",
    "\n",
    "s1 = \"WE, THE PEOPLE OF INDIA,\"\n",
    "s2 = \"having solemnly resolved to constitute India into a SOVEREIGN, !\"\n",
    "s3 = \"SOCIALIST, SECULAR, DEMOCRATIC\"\n",
    "s4 = \"REPUBLIC and to secure to all its citizens\"\n",
    "\n",
    "print(\"\"\" WE, THE PEOPLE OF INDIA,\n",
    "      having solemnly resolved to constitute India into a SOVEREIGN, !\n",
    "            SOCIALIST, SECULAR, DEMOCRATIC\n",
    "             REPUBLIC and to secure to all its citizens\"\"\")\n",
    "\n",
    "print(\"WE, THE PEOPLE OF INDIA,\",end= \" \")\n",
    "print(\"\\n\"\"     \",\"having solemnly resolved to constitute India into a SOVEREIGN, !\",end=\"\")\n",
    "print(\"\\n\"\"          \",\"SOCIALIST, SECULAR, DEMOCRATIC\",end=\"\")\n",
    "print(\"\\n\"\"            \",\"REPUBLIC and to secure to all its citizens\")"
   ]
  },
  {
   "cell_type": "code",
   "execution_count": 51,
   "metadata": {},
   "outputs": [
    {
     "name": "stdout",
     "output_type": "stream",
     "text": [
      "['WE', ' THE PEOPLE OF INDIA', ' having solemnly resolved to constitute India into a SOVEREIGN', 'SOCIALIST', ' SECULAR', ' DEMOCRATIC REPUBLIC and to secure to all its citizens']\n"
     ]
    }
   ],
   "source": [
    "l1 = string.split(\",\")\n",
    "print(l1)"
   ]
  },
  {
   "cell_type": "code",
   "execution_count": 53,
   "metadata": {},
   "outputs": [
    {
     "name": "stdout",
     "output_type": "stream",
     "text": [
      "WE\n",
      " THE PEOPLE OF INDIA\n",
      " having solemnly resolved to constitute India into a SOVEREIGN\n",
      "SOCIALIST\n",
      " SECULAR\n",
      " DEMOCRATIC REPUBLIC and to secure to all its citizens\n"
     ]
    }
   ],
   "source": [
    "for x in l1:\n",
    "    print(x)"
   ]
  },
  {
   "cell_type": "code",
   "execution_count": null,
   "metadata": {},
   "outputs": [],
   "source": []
  },
  {
   "cell_type": "markdown",
   "metadata": {},
   "source": [
    "# 2.3. Problem Statement: PYTHON 3"
   ]
  },
  {
   "cell_type": "code",
   "execution_count": null,
   "metadata": {},
   "outputs": [],
   "source": [
    "2.3.1.1. Write a Python Program to implement your own myreduce() function which works exactly like Python's built-in function reduce()"
   ]
  },
  {
   "cell_type": "code",
   "execution_count": 8,
   "metadata": {},
   "outputs": [],
   "source": [
    "x=list(range(1,10))"
   ]
  },
  {
   "cell_type": "code",
   "execution_count": 9,
   "metadata": {},
   "outputs": [],
   "source": [
    "def mulList(myList) :   \n",
    "    # Multiply elements one by one \n",
    "    result = 1\n",
    "    for x in myList: \n",
    "         result = result * x  \n",
    "    return result"
   ]
  },
  {
   "cell_type": "code",
   "execution_count": 12,
   "metadata": {},
   "outputs": [
    {
     "data": {
      "text/plain": [
       "362880"
      ]
     },
     "execution_count": 12,
     "metadata": {},
     "output_type": "execute_result"
    }
   ],
   "source": [
    "mulList(x)"
   ]
  },
  {
   "cell_type": "code",
   "execution_count": 10,
   "metadata": {},
   "outputs": [
    {
     "name": "stdout",
     "output_type": "stream",
     "text": [
      "45\n"
     ]
    }
   ],
   "source": [
    "l1 = sum([y for y in x])\n",
    "print(l1)"
   ]
  },
  {
   "cell_type": "code",
   "execution_count": null,
   "metadata": {},
   "outputs": [],
   "source": [
    "2.3.1.2. Write a Python program to implement your own myfilter() function which works exactly like Python's built-in function filter()"
   ]
  },
  {
   "cell_type": "code",
   "execution_count": 7,
   "metadata": {},
   "outputs": [
    {
     "name": "stdout",
     "output_type": "stream",
     "text": [
      "[2002, 2009, 2016, 2023, 2037, 2044, 2051, 2058, 2072, 2079, 2086, 2093, 2107, 2114, 2121, 2128, 2142, 2149, 2156, 2163, 2177, 2184, 2191, 2198, 2212, 2219, 2226, 2233, 2247, 2254, 2261, 2268, 2282, 2289, 2296, 2303, 2317, 2324, 2331, 2338, 2352, 2359, 2366, 2373, 2387, 2394, 2401, 2408, 2422, 2429, 2436, 2443, 2457, 2464, 2471, 2478, 2492, 2499, 2506, 2513, 2527, 2534, 2541, 2548, 2562, 2569, 2576, 2583, 2597, 2604, 2611, 2618, 2632, 2639, 2646, 2653, 2667, 2674, 2681, 2688, 2702, 2709, 2716, 2723, 2737, 2744, 2751, 2758, 2772, 2779, 2786, 2793, 2807, 2814, 2821, 2828, 2842, 2849, 2856, 2863, 2877, 2884, 2891, 2898, 2912, 2919, 2926, 2933, 2947, 2954, 2961, 2968, 2982, 2989, 2996, 3003, 3017, 3024, 3031, 3038, 3052, 3059, 3066, 3073, 3087, 3094, 3101, 3108, 3122, 3129, 3136, 3143, 3157, 3164, 3171, 3178, 3192, 3199]\n"
     ]
    }
   ],
   "source": [
    "# using list comprehensions\n",
    "q2=[i for i in range(2000,3201) if (i%7==0) and (i%5!=0)]\n",
    "print(q2)"
   ]
  },
  {
   "cell_type": "code",
   "execution_count": null,
   "metadata": {},
   "outputs": [],
   "source": []
  },
  {
   "cell_type": "code",
   "execution_count": null,
   "metadata": {},
   "outputs": [],
   "source": []
  },
  {
   "cell_type": "markdown",
   "metadata": {},
   "source": [
    "# 2.3.3 Implement List comprehensions to produce the following lists."
   ]
  },
  {
   "cell_type": "markdown",
   "metadata": {},
   "source": [
    "# Write List comprehensions to produce the following Lists.\n",
    "\n",
    "# Output 1 \n",
    "\n",
    "['A', 'C', 'A', 'D', 'G', 'I', ’L’, ‘ D’]\n",
    "\n",
    "# Output 2\n",
    "\n",
    "['x', 'xx', 'xxx', 'xxxx', 'y', 'yy', 'yyy', 'yyyy', 'z', 'zz', 'zzz', 'zzzz']\n",
    "\n",
    "# Output 3\n",
    "\n",
    "['x', 'y', 'z', 'xx', 'yy', 'zz', 'xxx', 'yyy', 'zzz', 'xxxx', 'yyyy', 'zzzz'] \n",
    "\n",
    "\n",
    "# Output 4\n",
    "\n",
    "[[2], [3], [4], [3], [4], [5], [4], [5], [6]] [[2, 3, 4, 5], [3, 4, 5, 6], [4, 5, 6, 7], [5, 6, 7, 8]]\n",
    "\n",
    "\n",
    "# Output 5\n",
    "[(1, 1), (2, 1), (3, 1), (1, 2), (2, 2), (3, 2), (1, 3), (2, 3), (3, 3)]\n"
   ]
  },
  {
   "cell_type": "code",
   "execution_count": 1,
   "metadata": {
    "scrolled": true
   },
   "outputs": [
    {
     "name": "stdout",
     "output_type": "stream",
     "text": [
      "['A', 'C', 'A', 'D', 'G', 'I', 'L', 'D']\n"
     ]
    }
   ],
   "source": [
    "letters = [ letter for letter in 'ACADGILD' ]\n",
    "print(letters)"
   ]
  },
  {
   "cell_type": "code",
   "execution_count": 2,
   "metadata": {},
   "outputs": [
    {
     "data": {
      "text/plain": [
       "['x', 'xx', 'xxx', 'xxxx', 'y', 'yy', 'yyy', 'yyyy', 'z', 'zz', 'zzz', 'zzzz']"
      ]
     },
     "execution_count": 2,
     "metadata": {},
     "output_type": "execute_result"
    }
   ],
   "source": [
    "inp = ['x','y','z']\n",
    "q1 = [ i*num for i in inp for num in range(1,5)]\n",
    "q1"
   ]
  },
  {
   "cell_type": "code",
   "execution_count": 3,
   "metadata": {},
   "outputs": [
    {
     "data": {
      "text/plain": [
       "['x', 'y', 'z', 'xx', 'yy', 'zz', 'xxx', 'yyy', 'zzz', 'xxxx', 'yyyy', 'zzzz']"
      ]
     },
     "execution_count": 3,
     "metadata": {},
     "output_type": "execute_result"
    }
   ],
   "source": [
    "q2 = [ i*num for num in range(1,5) for i in inp]\n",
    "q2"
   ]
  },
  {
   "cell_type": "code",
   "execution_count": 4,
   "metadata": {},
   "outputs": [
    {
     "data": {
      "text/plain": [
       "[[2], [3], [4], [3], [4], [5], [4], [5], [6]]"
      ]
     },
     "execution_count": 4,
     "metadata": {},
     "output_type": "execute_result"
    }
   ],
   "source": [
    "inp1 = [2,3,4]\n",
    "q3 = [ [i+num] for i in inp1 for num in range(0,3)]\n",
    "q3"
   ]
  },
  {
   "cell_type": "code",
   "execution_count": 5,
   "metadata": {},
   "outputs": [
    {
     "data": {
      "text/plain": [
       "[[2, 3, 4, 5], [3, 4, 5, 6], [4, 5, 6, 7], [5, 6, 7, 8]]"
      ]
     },
     "execution_count": 5,
     "metadata": {},
     "output_type": "execute_result"
    }
   ],
   "source": [
    "inp2 = [2,3,4,5]\n",
    "q4 = [ [i+num for i in inp2] for num in range(0,4)  ]\n",
    "q4"
   ]
  },
  {
   "cell_type": "code",
   "execution_count": 6,
   "metadata": {},
   "outputs": [
    {
     "data": {
      "text/plain": [
       "[(1, 1), (1, 2), (1, 3), (2, 1), (2, 2), (2, 3), (3, 1), (3, 2), (3, 3)]"
      ]
     },
     "execution_count": 6,
     "metadata": {},
     "output_type": "execute_result"
    }
   ],
   "source": [
    "inp3=[1,2,3]\n",
    "q5 = [ (i,n) for i in inp3 for n in inp3]\n",
    "q5"
   ]
  },
  {
   "cell_type": "markdown",
   "metadata": {},
   "source": [
    "# 2.3.3. Implement a function longestWord() that takes a list of words and returns the longest one.\n",
    "\n",
    "\n",
    "    1. Need to define a function call longestWord()\n",
    "    2. We need to pass the string to the fucntion\n",
    "    3. In this we need to split the by words first and then find the lenght of each word. \n",
    "    4. Finally find location of the max values for that list and then return the longest word."
   ]
  },
  {
   "cell_type": "code",
   "execution_count": 2,
   "metadata": {},
   "outputs": [],
   "source": [
    "def longestWord(s):\n",
    "    full= s.split() # here we are converting string into list of word by using space\n",
    "    a = max(full,key=len)\n",
    "    return a\n",
    "    "
   ]
  },
  {
   "cell_type": "code",
   "execution_count": 3,
   "metadata": {},
   "outputs": [
    {
     "name": "stdout",
     "output_type": "stream",
     "text": [
      "Please enter the list words to get the Longest word: This is to find the longestword in the given sentence\n"
     ]
    },
    {
     "data": {
      "text/plain": [
       "'longestword'"
      ]
     },
     "execution_count": 3,
     "metadata": {},
     "output_type": "execute_result"
    }
   ],
   "source": [
    "string = input(\"Please enter the list words to get the Longest word: \")\n",
    "longestWord(string)"
   ]
  },
  {
   "cell_type": "markdown",
   "metadata": {},
   "source": [
    "# 1.1 Write a Python Program(with class concepts) to find the area of the triangle using the below formula.\n",
    "s = (a+b+c)/2\n",
    "area = (s*(s-a)*(s-b)*(s-c)) ** 0.5\n",
    "\n",
    "Function to take the length of the sides of triangle from user should be defined in the parent class and \n",
    "\n",
    "Function to calculate the area should be defined in subclass."
   ]
  },
  {
   "cell_type": "code",
   "execution_count": 11,
   "metadata": {},
   "outputs": [
    {
     "name": "stdout",
     "output_type": "stream",
     "text": [
      "a=6\n",
      "b=6\n",
      "c=6\n",
      "Perimeter= 9.0\n",
      "Area of Triangle= 15.588457268119896\n"
     ]
    }
   ],
   "source": [
    "class Data:\n",
    "    def __init__(self,a,b,c):\n",
    "        self.a=a\n",
    "        self.b=b\n",
    "        self.c=c \n",
    "class Cal(Data):\n",
    "    def __init__(self,a,b,c):\n",
    "        Data.__init__(self,a,b,c)\n",
    "        self.s=(self.a+self.b+self.c)/2\n",
    "        self.area = int(self.s*(self.s-self.a)*(self.s-self.b)*(self.s-self.c))**0.5\n",
    "        if self.c>=(self.a+self.b):\n",
    "            print(\"Side a + Side b should be greator then Side c\")\n",
    "data=Cal(int(input(\"a=\")),int(input(\"b=\")),int(input(\"c=\"))) \n",
    "print(\"Perimeter=\",data.s) \n",
    "print(\"Area of Triangle=\",data.area)"
   ]
  },
  {
   "cell_type": "code",
   "execution_count": null,
   "metadata": {},
   "outputs": [],
   "source": []
  },
  {
   "cell_type": "markdown",
   "metadata": {},
   "source": [
    "# 2.4.1.2 Write a function filter_long_words() that takes a list of words and an integer n and returns the list of words that are longer than n."
   ]
  },
  {
   "cell_type": "code",
   "execution_count": null,
   "metadata": {},
   "outputs": [],
   "source": []
  },
  {
   "cell_type": "code",
   "execution_count": 108,
   "metadata": {},
   "outputs": [],
   "source": [
    "def ListofWords(s,n):\n",
    "    full= s.split() # here we are converting string into list of word by using space\n",
    "    r=list(filter(lambda x: len(x)>n, full)) #now comparing the list of each word length with the value of n\n",
    "    return[j for j in r ]"
   ]
  },
  {
   "cell_type": "code",
   "execution_count": 133,
   "metadata": {
    "scrolled": true
   },
   "outputs": [
    {
     "name": "stdout",
     "output_type": "stream",
     "text": [
      "Please enter the list words to get the Longest word: one two theree four five six abcodfdads adfaddasf adfadsfadsf adfasdfadsfoejrojodsjfogdof\n",
      "Please enter the n value which returns words greater than n chars : 20\n"
     ]
    },
    {
     "data": {
      "text/plain": [
       "['adfasdfadsfoejrojodsjfogdof']"
      ]
     },
     "execution_count": 133,
     "metadata": {},
     "output_type": "execute_result"
    }
   ],
   "source": [
    "string = input(\"Please enter the list words to get the Longest word: \")\n",
    "n = int(input(\"Please enter the n value which returns words greater than n chars : \"))\n",
    "ListofWords(string,n)\n"
   ]
  },
  {
   "cell_type": "code",
   "execution_count": 135,
   "metadata": {},
   "outputs": [],
   "source": []
  },
  {
   "cell_type": "markdown",
   "metadata": {},
   "source": [
    "# 2.4.2.1 Write a Python program using function concept that maps list of words into a list of integers representing the lengths of the corresponding words."
   ]
  },
  {
   "cell_type": "code",
   "execution_count": 140,
   "metadata": {},
   "outputs": [],
   "source": [
    "def ListofLengths(s):\n",
    "    full= s.split() # here we are converting string into list of word by using space\n",
    "    r=list(map(lambda x: len(x), full)) #now comparing the list of each word length with the value of n\n",
    "    return[j for j in r ]"
   ]
  },
  {
   "cell_type": "code",
   "execution_count": 141,
   "metadata": {
    "scrolled": true
   },
   "outputs": [
    {
     "name": "stdout",
     "output_type": "stream",
     "text": [
      "Please enter the list words to get the length of corresponding word : one two three\n"
     ]
    },
    {
     "data": {
      "text/plain": [
       "[3, 3, 5]"
      ]
     },
     "execution_count": 141,
     "metadata": {},
     "output_type": "execute_result"
    }
   ],
   "source": [
    "string = input(\"Please enter the list words to get the length of corresponding word : \")\n",
    "ListofLengths(string)"
   ]
  },
  {
   "cell_type": "code",
   "execution_count": 14,
   "metadata": {},
   "outputs": [],
   "source": [
    "def vowles(s):\n",
    "    full= s.split() # here we are converting string into list of word by using space\n",
    "    list(map(lambda x: for r in , full)) #now comparing the list of each word length with the value of n\n",
    "    "
   ]
  },
  {
   "cell_type": "code",
   "execution_count": 20,
   "metadata": {},
   "outputs": [
    {
     "name": "stdout",
     "output_type": "stream",
     "text": [
      "Please enter a alphabet to find it is a vowle or not :y\n",
      "Entered character is Vowel ? : False\n"
     ]
    }
   ],
   "source": [
    "def is_vowel(char):\n",
    "    all_vowels = 'aeiou'\n",
    "    return char in all_vowels\n",
    "\n",
    "char = input(\"Please enter a alphabet to find it is a vowle or not :\")\n",
    "\n",
    "print(\"Entered character is Vowel ? :\",is_vowel(char))"
   ]
  },
  {
   "cell_type": "code",
   "execution_count": null,
   "metadata": {},
   "outputs": [],
   "source": []
  },
  {
   "cell_type": "code",
   "execution_count": 13,
   "metadata": {
    "scrolled": true
   },
   "outputs": [
    {
     "name": "stdout",
     "output_type": "stream",
     "text": [
      "Please enter the list words to get the length of corresponding word : one\n"
     ]
    },
    {
     "ename": "NameError",
     "evalue": "name 'vowles' is not defined",
     "output_type": "error",
     "traceback": [
      "\u001b[1;31m---------------------------------------------------------------------------\u001b[0m",
      "\u001b[1;31mNameError\u001b[0m                                 Traceback (most recent call last)",
      "\u001b[1;32m<ipython-input-13-d06b6f317cb0>\u001b[0m in \u001b[0;36m<module>\u001b[1;34m\u001b[0m\n\u001b[0;32m      1\u001b[0m \u001b[0mstring\u001b[0m \u001b[1;33m=\u001b[0m \u001b[0minput\u001b[0m\u001b[1;33m(\u001b[0m\u001b[1;34m\"Please enter the list words to get the length of corresponding word : \"\u001b[0m\u001b[1;33m)\u001b[0m\u001b[1;33m\u001b[0m\u001b[1;33m\u001b[0m\u001b[0m\n\u001b[1;32m----> 2\u001b[1;33m \u001b[0mvowles\u001b[0m\u001b[1;33m(\u001b[0m\u001b[0mstring\u001b[0m\u001b[1;33m)\u001b[0m\u001b[1;33m\u001b[0m\u001b[1;33m\u001b[0m\u001b[0m\n\u001b[0m",
      "\u001b[1;31mNameError\u001b[0m: name 'vowles' is not defined"
     ]
    }
   ],
   "source": [
    "string = input(\"Please enter the list words to get the length of corresponding word : \")\n",
    "vowles(string)"
   ]
  },
  {
   "cell_type": "markdown",
   "metadata": {},
   "source": [
    "# 2.5. Problem Statement: PYTHON 5"
   ]
  },
  {
   "cell_type": "markdown",
   "metadata": {},
   "source": [
    "# 2.5.1. Write a function to compute 5/0 and use try/except to catch the exceptions.\""
   ]
  },
  {
   "cell_type": "code",
   "execution_count": 7,
   "metadata": {},
   "outputs": [],
   "source": [
    "def divide(numarator,denominator):\n",
    "    try:\n",
    "        result = numarator/denominator\n",
    "        return result\n",
    "    except ZeroDivisionError:\n",
    "        print(\"your denominator value is 0\")\n",
    "        \n"
   ]
  },
  {
   "cell_type": "code",
   "execution_count": 11,
   "metadata": {},
   "outputs": [
    {
     "name": "stdout",
     "output_type": "stream",
     "text": [
      " Please enter the Numarator value6\n",
      " Please enter the denominator value5\n"
     ]
    },
    {
     "data": {
      "text/plain": [
       "1.2"
      ]
     },
     "execution_count": 11,
     "metadata": {},
     "output_type": "execute_result"
    }
   ],
   "source": [
    "numarator = int(input( \" Please enter the Numarator value\"))\n",
    "denominator = int(input( \" Please enter the denominator value\"))\n",
    "divide(numarator,denominator)"
   ]
  },
  {
   "cell_type": "markdown",
   "metadata": {},
   "source": [
    "# 2.5.2\n",
    "# Implement a Python program to generate all sentences where subject is in [\"Americans\", \"Indians\"] and verb is in [\"Play\", \"watch\"] and the object is in [\"Baseball\",\"cricket\"].\n",
    "Hint: Subject,Verb and Object should be declared in the program as shown below.\n",
    "subjects=[\"Americans \",\"Indians\"]\n",
    "verbs=[\"play\",\"watch\"]\n",
    "objects=[\"Baseball\",\"Cricket\"]\n",
    "Output should come as below:\n",
    "Americans play Baseball.\n",
    "Americans play Cricket.\n",
    "Americans watch Baseball.\n",
    "Americans watch Cricket.\n",
    "Indians play Baseball.\n",
    "Indians play Cricket.\n",
    "Indians watch Baseball.\n",
    "Indians watch Cricket.\n",
    "NOTE:"
   ]
  },
  {
   "cell_type": "code",
   "execution_count": null,
   "metadata": {},
   "outputs": [],
   "source": [
    "subjects=[\"Americans \",\"Indians\"]\n",
    "verbs=[\"play\",\"watch\"]\n",
    "objects=[\"Baseball\",\"Cricket\"]\n"
   ]
  },
  {
   "cell_type": "code",
   "execution_count": 77,
   "metadata": {
    "scrolled": true
   },
   "outputs": [
    {
     "data": {
      "text/html": [
       "<div>\n",
       "<style scoped>\n",
       "    .dataframe tbody tr th:only-of-type {\n",
       "        vertical-align: middle;\n",
       "    }\n",
       "\n",
       "    .dataframe tbody tr th {\n",
       "        vertical-align: top;\n",
       "    }\n",
       "\n",
       "    .dataframe thead th {\n",
       "        text-align: right;\n",
       "    }\n",
       "</style>\n",
       "<table border=\"1\" class=\"dataframe\">\n",
       "  <thead>\n",
       "    <tr style=\"text-align: right;\">\n",
       "      <th></th>\n",
       "      <th>subjects</th>\n",
       "      <th>verbs</th>\n",
       "      <th>objects</th>\n",
       "    </tr>\n",
       "  </thead>\n",
       "  <tbody>\n",
       "    <tr>\n",
       "      <th>0</th>\n",
       "      <td>Americans</td>\n",
       "      <td>play</td>\n",
       "      <td>Baseball</td>\n",
       "    </tr>\n",
       "    <tr>\n",
       "      <th>1</th>\n",
       "      <td>Indians</td>\n",
       "      <td>watch</td>\n",
       "      <td>Cricket</td>\n",
       "    </tr>\n",
       "  </tbody>\n",
       "</table>\n",
       "</div>"
      ],
      "text/plain": [
       "     subjects  verbs   objects\n",
       "0  Americans    play  Baseball\n",
       "1     Indians  watch   Cricket"
      ]
     },
     "execution_count": 77,
     "metadata": {},
     "output_type": "execute_result"
    }
   ],
   "source": [
    "import pandas as pd\n",
    "a = pd.DataFrame({'subjects':[\"Americans \",\"Indians\"],'verbs':[\"play\",\"watch\"],'objects':[\"Baseball\",\"Cricket\"]})\n",
    "a"
   ]
  },
  {
   "cell_type": "code",
   "execution_count": 170,
   "metadata": {},
   "outputs": [
    {
     "name": "stdout",
     "output_type": "stream",
     "text": [
      "Americans play Baseball\n",
      "Americans play Cricket\n",
      "Americans watch Cricket\n",
      "Indians play Baseball\n",
      "Indians watch Baseball\n",
      "Indians watch Cricket\n"
     ]
    }
   ],
   "source": [
    "print(a.subjects[0] +\"\"+a.verbs[0] + \" \" +a.objects[0])\n",
    "print(a.subjects[0] +\"\"+a.verbs[0] + \" \" +a.objects[1])\n",
    "print(a.subjects[0] +\"\"+a.verbs[1] + \" \" +a.objects[1])\n",
    "print(a.subjects[1] +\" \"+a.verbs[0] + \" \" +a.objects[0])\n",
    "print(a.subjects[1] +\" \"+a.verbs[1] + \" \" +a.objects[0])\n",
    "print(a.subjects[1] +\" \"+a.verbs[1] + \" \" +a.objects[1])"
   ]
  }
 ],
 "metadata": {
  "kernelspec": {
   "display_name": "Python 3",
   "language": "python",
   "name": "python3"
  },
  "language_info": {
   "codemirror_mode": {
    "name": "ipython",
    "version": 3
   },
   "file_extension": ".py",
   "mimetype": "text/x-python",
   "name": "python",
   "nbconvert_exporter": "python",
   "pygments_lexer": "ipython3",
   "version": "3.7.3"
  }
 },
 "nbformat": 4,
 "nbformat_minor": 2
}
